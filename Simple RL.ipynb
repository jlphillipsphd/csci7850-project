{
 "cells": [
  {
   "cell_type": "code",
   "execution_count": 1,
   "id": "be2738f1-1e36-4c53-950d-100bc2a4dfcf",
   "metadata": {},
   "outputs": [],
   "source": [
    "import numpy as np\n",
    "import tensorflow as tf\n",
    "import tensorflow.keras as keras\n",
    "import matplotlib.pyplot as plt\n",
    "import gym\n",
    "\n",
    "# For algorithms outside of TF/Keras training loops\n",
    "# it's often faster to disable eager execution...\n",
    "# from tensorflow.python.framework.ops import disable_eager_execution\n",
    "# disable_eager_execution()"
   ]
  },
  {
   "cell_type": "code",
   "execution_count": 2,
   "id": "5363a99c-40a8-4064-9de9-dbc512f01fb4",
   "metadata": {},
   "outputs": [],
   "source": [
    "class Maze1D():\n",
    "    def __init__(self,\n",
    "                 n_states=10,\n",
    "                 goal_state=5,\n",
    "                 reward_nongoal=0.0,\n",
    "                 reward_goal=1.0):\n",
    "        \"\"\"\n",
    "        These options are paricular to the 1D maze environment/task:\n",
    "        n_states - size (length) of the 1D maze\n",
    "        goal_state - where the task terminates (terminal state)\n",
    "        reward_nongoal - scalar reward for all non-terminal states\n",
    "        reward_goal - scalar reward for terminal state\n",
    "        \"\"\"\n",
    "        self.n_states = n_states\n",
    "        self.goal_state = goal_state\n",
    "        self.reward_nongoal = reward_nongoal\n",
    "        self.reward_goal = reward_goal\n",
    "        # Agent's current location (initially nowhere)\n",
    "        self.x = np.array([-1])\n",
    "        self.observation_space = np.array([n_states])\n",
    "        class a: pass\n",
    "        self.action_space = a()\n",
    "        self.action_space.n = 2\n",
    "        \n",
    "    def reset(self):\n",
    "        self.x[0] = np.random.randint(self.n_states)\n",
    "        while self.x[0] == self.goal_state:\n",
    "            self.x[0] = np.random.randint(self.n_states)\n",
    "        return np.copy(self.x)\n",
    "    \n",
    "    def step(self,action):\n",
    "        if action:\n",
    "            self.x = (self.x + 1) % self.n_states\n",
    "        else:\n",
    "            self.x = (self.x - 1) % self.n_states\n",
    "        if self.x[0] == self.goal_state:\n",
    "            r = self.reward_goal\n",
    "            d = True\n",
    "        else:\n",
    "            r = self.reward_nongoal\n",
    "            d = False\n",
    "        return np.copy(self.x), r, d, None"
   ]
  },
  {
   "cell_type": "code",
   "execution_count": 3,
   "id": "2e017be8-6994-4a46-bcba-3e98117fab70",
   "metadata": {},
   "outputs": [],
   "source": [
    "n_states = 20\n",
    "goal_state = 5\n",
    "env = Maze1D(n_states=n_states,\n",
    "             goal_state=goal_state)"
   ]
  },
  {
   "cell_type": "code",
   "execution_count": 4,
   "id": "db8f3987-61eb-415b-9e66-df650062fcb6",
   "metadata": {},
   "outputs": [
    {
     "data": {
      "text/plain": [
       "array([20])"
      ]
     },
     "execution_count": 4,
     "metadata": {},
     "output_type": "execute_result"
    }
   ],
   "source": [
    "env.observation_space"
   ]
  },
  {
   "cell_type": "code",
   "execution_count": 5,
   "id": "43d7d628-7f03-422e-bd70-b336ed96cced",
   "metadata": {},
   "outputs": [
    {
     "data": {
      "text/plain": [
       "2"
      ]
     },
     "execution_count": 5,
     "metadata": {},
     "output_type": "execute_result"
    }
   ],
   "source": [
    "env.action_space.n"
   ]
  },
  {
   "cell_type": "code",
   "execution_count": 6,
   "id": "54a16687-2e6f-421e-9c77-314d9103acf5",
   "metadata": {},
   "outputs": [
    {
     "name": "stdout",
     "output_type": "stream",
     "text": [
      "Model: \"model\"\n",
      "_________________________________________________________________\n",
      " Layer (type)                Output Shape              Param #   \n",
      "=================================================================\n",
      " input_1 (InputLayer)        [(None, 1)]               0         \n",
      "                                                                 \n",
      " embedding (Embedding)       (None, 1, 100)            2000      \n",
      "                                                                 \n",
      " flatten (Flatten)           (None, 100)               0         \n",
      "                                                                 \n",
      " dense (Dense)               (None, 256)               25856     \n",
      "                                                                 \n",
      " dense_1 (Dense)             (None, 2)                 514       \n",
      "                                                                 \n",
      "=================================================================\n",
      "Total params: 28,370\n",
      "Trainable params: 28,370\n",
      "Non-trainable params: 0\n",
      "_________________________________________________________________\n"
     ]
    },
    {
     "name": "stderr",
     "output_type": "stream",
     "text": [
      "2022-11-01 13:52:01.249475: W tensorflow/stream_executor/platform/default/dso_loader.cc:64] Could not load dynamic library 'libcuda.so.1'; dlerror: libcuda.so.1: cannot open shared object file: No such file or directory\n",
      "2022-11-01 13:52:01.249522: W tensorflow/stream_executor/cuda/cuda_driver.cc:269] failed call to cuInit: UNKNOWN ERROR (303)\n",
      "2022-11-01 13:52:01.249561: I tensorflow/stream_executor/cuda/cuda_diagnostics.cc:156] kernel driver does not appear to be running on this host (jupyter-jphillips): /proc/driver/nvidia/version does not exist\n",
      "2022-11-01 13:52:01.249734: I tensorflow/core/platform/cpu_feature_guard.cc:151] This TensorFlow binary is optimized with oneAPI Deep Neural Network Library (oneDNN) to use the following CPU instructions in performance-critical operations:  SSE4.1 SSE4.2 AVX AVX2 FMA\n",
      "To enable them in other operations, rebuild TensorFlow with the appropriate compiler flags.\n"
     ]
    },
    {
     "data": {
      "image/png": "[encoded data removed]",
      "text/plain": [
       "<IPython.core.display.Image object>"
      ]
     },
     "execution_count": 6,
     "metadata": {},
     "output_type": "execute_result"
    }
   ],
   "source": [
    "# A simple multilayer architecture....\n",
    "def make_model(state_shape,\n",
    "               action_shape,\n",
    "               state_length = 10,\n",
    "               embedding_dim = 100,\n",
    "               hidden_dim = 256):\n",
    "    \"\"\"\n",
    "    The state_shape and action_shape are typical parameters\n",
    "    that are obtained from the OpenAI gym framework - usually one\n",
    "    would utilize the env.observation_space.shape and\n",
    "    env.action_space.n for most situations to set these values,\n",
    "    respectively.\n",
    "    \n",
    "    The remaining keyword arguments are problem-specific and\n",
    "    may need to be rewritten based on your model architecture.\n",
    "    For example, here we are using a -discrete- input space for\n",
    "    the 1DMaze problem - so the input shape is (1,) which can\n",
    "    be obtained from the variables above for setting state_shape\n",
    "    appropriately, but the Embedding of those discrete tokens\n",
    "    (i.e. 0, 1, 2, 3, ..., (n-1)) for each state needs to know\n",
    "    the maximum number of states (and therefore random vectors)\n",
    "    to expect in that input vector.\n",
    "    \"\"\"\n",
    "    x = keras.layers.Input(state_shape)\n",
    "    y = x\n",
    "    y = keras.layers.Embedding(input_dim=state_length,\n",
    "                               output_dim=embedding_dim)(y)\n",
    "    y = keras.layers.Flatten()(y)\n",
    "    y = keras.layers.Dense(hidden_dim,activation='gelu')(y)\n",
    "    y = keras.layers.Dense(action_shape)(y)\n",
    "    model = keras.Model(x,y)\n",
    "    model.compile(loss=keras.losses.MeanSquaredError(),\n",
    "                  optimizer=keras.optimizers.Adam(learning_rate=0.001))\n",
    "    return model\n",
    "\n",
    "hidden_dim = 256\n",
    "model = make_model(env.observation_space.shape[0],env.action_space.n,\n",
    "                   state_length=env.observation_space[0],\n",
    "                   hidden_dim=hidden_dim)\n",
    "model.summary()\n",
    "keras.utils.plot_model(model,show_shapes=True)"
   ]
  },
  {
   "cell_type": "code",
   "execution_count": 7,
   "id": "735f8f2b-d9fc-4128-9bc3-a712594396f6",
   "metadata": {},
   "outputs": [
    {
     "data": {
      "text/plain": [
       "<tf.Tensor: shape=(1, 2), dtype=float32, numpy=array([[-0.00110519,  0.0107816 ]], dtype=float32)>"
      ]
     },
     "execution_count": 7,
     "metadata": {},
     "output_type": "execute_result"
    }
   ],
   "source": [
    "Q = model(np.array([[0]]))\n",
    "Q"
   ]
  },
  {
   "cell_type": "code",
   "execution_count": 8,
   "id": "254a966b-5fa4-4d11-96b4-41e1cd69c359",
   "metadata": {},
   "outputs": [
    {
     "data": {
      "text/plain": [
       "1"
      ]
     },
     "execution_count": 8,
     "metadata": {},
     "output_type": "execute_result"
    }
   ],
   "source": [
    "Q.numpy().argmax()"
   ]
  },
  {
   "cell_type": "code",
   "execution_count": 9,
   "id": "4b11e8cc-7a9f-4cce-936b-8249cc260e26",
   "metadata": {},
   "outputs": [
    {
     "data": {
      "text/plain": [
       "1"
      ]
     },
     "execution_count": 9,
     "metadata": {},
     "output_type": "execute_result"
    }
   ],
   "source": [
    "# epsilon-greedy policy\n",
    "epsilon = 0.1\n",
    "action = np.random.choice([0,1]) if np.random.random() < epsilon else Q.numpy().argmax()\n",
    "action"
   ]
  },
  {
   "cell_type": "code",
   "execution_count": 10,
   "id": "4a373cd3-4a2e-4c00-9c91-269b591a210c",
   "metadata": {},
   "outputs": [
    {
     "data": {
      "text/plain": [
       "array([[-0.00110519,  0.0107816 ]], dtype=float32)"
      ]
     },
     "execution_count": 10,
     "metadata": {},
     "output_type": "execute_result"
    }
   ],
   "source": [
    "Q.numpy()"
   ]
  },
  {
   "cell_type": "code",
   "execution_count": 11,
   "id": "813e3ba9-fdd2-4416-801d-8467ccdb63d6",
   "metadata": {},
   "outputs": [
    {
     "name": "stdout",
     "output_type": "stream",
     "text": [
      "[[ 9.00000000e+00  0.00000000e+00  2.81596277e-02  2.28659739e-03]\n",
      " [ 8.00000000e+00  1.00000000e+00 -2.15416476e-02 -2.01201066e-04]\n",
      " [ 9.00000000e+00  0.00000000e+00  2.81596277e-02  2.28659739e-03]\n",
      " [ 8.00000000e+00  1.00000000e+00 -2.15416476e-02 -2.01201066e-04]\n",
      " [ 9.00000000e+00  0.00000000e+00  2.81596277e-02  2.28659739e-03]\n",
      " [ 8.00000000e+00  1.00000000e+00 -2.15416476e-02 -2.01201066e-04]\n",
      " [ 9.00000000e+00  0.00000000e+00  2.81596277e-02  2.28659739e-03]\n",
      " [ 8.00000000e+00  1.00000000e+00 -2.15416476e-02 -2.01201066e-04]\n",
      " [ 9.00000000e+00  0.00000000e+00  2.81596277e-02  2.28659739e-03]\n",
      " [ 8.00000000e+00  1.00000000e+00 -2.15416476e-02 -2.01201066e-04]\n",
      " [ 9.00000000e+00  0.00000000e+00  2.81596277e-02  2.28659739e-03]\n",
      " [ 8.00000000e+00  1.00000000e+00 -2.15416476e-02 -2.01201066e-04]\n",
      " [ 9.00000000e+00  0.00000000e+00  2.81596277e-02  2.28659739e-03]\n",
      " [ 8.00000000e+00  1.00000000e+00 -2.15416476e-02 -2.01201066e-04]\n",
      " [ 9.00000000e+00  0.00000000e+00  2.81596277e-02  2.28659739e-03]\n",
      " [ 8.00000000e+00  1.00000000e+00 -2.15416476e-02 -2.01201066e-04]\n",
      " [ 9.00000000e+00  0.00000000e+00  2.81596277e-02  2.28659739e-03]\n",
      " [ 8.00000000e+00  1.00000000e+00 -2.15416476e-02 -2.01201066e-04]\n",
      " [ 9.00000000e+00  0.00000000e+00  2.81596277e-02  2.28659739e-03]\n",
      " [ 8.00000000e+00  1.00000000e+00 -2.15416476e-02 -2.01201066e-04]\n",
      " [ 9.00000000e+00  0.00000000e+00  2.81596277e-02  2.28659739e-03]\n",
      " [ 8.00000000e+00  1.00000000e+00 -2.15416476e-02 -2.01201066e-04]\n",
      " [ 9.00000000e+00  0.00000000e+00  2.81596277e-02  2.28659739e-03]\n",
      " [ 8.00000000e+00  0.00000000e+00 -2.15416476e-02 -2.01201066e-04]\n",
      " [ 7.00000000e+00  0.00000000e+00  2.36408971e-03 -3.02940561e-03]\n",
      " [ 6.00000000e+00  1.00000000e+00 -6.16545882e-03 -5.68286562e-03]\n",
      " [ 7.00000000e+00  0.00000000e+00  2.36408971e-03 -3.02940561e-03]\n",
      " [ 6.00000000e+00  1.00000000e+00 -6.16545882e-03 -5.68286562e-03]\n",
      " [ 7.00000000e+00  0.00000000e+00  2.36408971e-03 -3.02940561e-03]\n",
      " [ 6.00000000e+00  1.00000000e+00 -6.16545882e-03 -5.68286562e-03]\n",
      " [ 7.00000000e+00  1.00000000e+00 -6.16545882e-03 -5.68286562e-03]]\n"
     ]
    }
   ],
   "source": [
    "# Initialize the environment and let the agent decide!\n",
    "observation = env.reset()\n",
    "trace = []\n",
    "epsilon = 0.1\n",
    "reward = 0.0\n",
    "for time in range(30):\n",
    "    Q = model(np.expand_dims(observation,axis=0)) # Compute Q\n",
    "    action = np.random.choice([0,1]) if np.random.random() < epsilon else Q.numpy().argmax()\n",
    "    trace.append(np.concatenate([observation,[action],Q[0]]))\n",
    "    observation, reward, done, info = env.step(action) # take action!\n",
    "    if (done):\n",
    "        break\n",
    "trace.append(np.concatenate([observation,[action],Q[0]]))\n",
    "# s, a, Q(s,L), Q(s,R)\n",
    "print(np.vstack(trace))"
   ]
  },
  {
   "cell_type": "code",
   "execution_count": 12,
   "id": "fb1b2b5a-7e9f-4f4f-80dd-95791602c363",
   "metadata": {},
   "outputs": [
    {
     "data": {
      "text/plain": [
       "<__main__.Maze1D at 0x7fd2a195bbb0>"
      ]
     },
     "execution_count": 12,
     "metadata": {},
     "output_type": "execute_result"
    }
   ],
   "source": [
    "env"
   ]
  },
  {
   "cell_type": "code",
   "execution_count": 13,
   "id": "f5ff45d7-9079-43ec-88ce-d750555bf5b2",
   "metadata": {},
   "outputs": [],
   "source": [
    "# Step 1 - Replay Memory Class\n",
    "class ReplayMemory:\n",
    "    def __init__(self, memory_size, state_size, action_size):\n",
    "        self.state_size = state_size\n",
    "        self.action_size = action_size\n",
    "        self.size = 0\n",
    "        self.maxsize = memory_size\n",
    "        self.current_index = 0\n",
    "        self.current_state = np.zeros([memory_size,env.observation_space.shape[0]])\n",
    "        self.action = [0]*memory_size # Remember, actions are integers...\n",
    "        self.reward = np.zeros([memory_size])\n",
    "        self.next_state = np.zeros([memory_size,env.observation_space.shape[0]])\n",
    "        self.done = [False]*memory_size # Boolean (terminal transition?)\n",
    "\n",
    "    def remember(self, current_state, action, reward, next_state, done):\n",
    "        # Stores a single memory item\n",
    "        self.current_state[self.current_index,:] = current_state\n",
    "        self.action[self.current_index] = action\n",
    "        self.reward[self.current_index] = reward\n",
    "        self.next_state[self.current_index,:] = next_state\n",
    "        self.done[self.current_index] = done\n",
    "        self.current_index = (self.current_index+1)%self.maxsize\n",
    "        self.size = max(self.current_index,self.size)\n",
    "    \n",
    "    def replay(self, model, target_model, num_samples, sample_size, gamma):\n",
    "        # Run replay!\n",
    "        \n",
    "        # Can't train if we don't yet have enough samples to begin with...\n",
    "        if self.size < sample_size:\n",
    "            return\n",
    "        \n",
    "        for i in range(num_samples):\n",
    "            # Select sample_size memory indices from the whole set\n",
    "            current_sample = np.random.choice(self.size,sample_size,replace=False)\n",
    "            \n",
    "            # Slice memory into training sample\n",
    "            current_state = self.current_state[current_sample,:]\n",
    "            action = [self.action[j] for j in current_sample]\n",
    "            reward = self.reward[current_sample]\n",
    "            next_state = self.next_state[current_sample,:]\n",
    "            done = [self.done[j] for j in current_sample]\n",
    "            \n",
    "            # Obtain model's current Q-values\n",
    "            model_targets = model(current_state).numpy()\n",
    "            \n",
    "            # Create targets from argmax(Q(s+1,a+1))\n",
    "            # Use the target model!\n",
    "            targets = reward + gamma*np.amax(target_model(next_state).numpy(),axis=1)\n",
    "            # Absorb the reward on terminal state-action transitions\n",
    "            targets[done] = reward[done]\n",
    "            # Update just the relevant parts of the model_target vector...\n",
    "            model_targets[range(sample_size),action] = targets\n",
    "            \n",
    "            # Update the weights accordingly\n",
    "            model.train_on_batch(current_state,model_targets)\n",
    "            # model.fit(current_state,model_targets,\n",
    "            #          epochs=1,verbose=0,batch_size=sample_size)\n",
    "            \n",
    "        # Once we have finished training, update the target model\n",
    "        target_model.set_weights(model.get_weights())"
   ]
  },
  {
   "cell_type": "code",
   "execution_count": 14,
   "id": "eb59c0ea-0644-456b-9b75-f10f1499a615",
   "metadata": {},
   "outputs": [],
   "source": [
    "# Full setup for the task...\n",
    "\n",
    "# For keeping track of performance\n",
    "from collections import deque\n",
    "\n",
    "# Hyperparameters\n",
    "gamma = 0.7\n",
    "epsilon = 1.0\n",
    "epsilon_decay = 0.98\n",
    "epsilon_min = 0.01\n",
    "episodes = 1000\n",
    "\n",
    "# Total memory size (number of actions remembered...)\n",
    "n_memories = 1000\n",
    "\n",
    "# How many batches do we want to train on\n",
    "# from the memory before updating the\n",
    "# target model?\n",
    "replay_iterations = 10\n",
    "\n",
    "# How many memories do we use in each batch?\n",
    "replay_sample_size = 50\n",
    "\n",
    "# Peformance stats\n",
    "times_window = deque(maxlen=100)\n",
    "mean_times = deque(maxlen=episodes)\n",
    "\n",
    "# Initialize the environment and agent data structures\n",
    "# env = gym.make('CartPole-v1')\n",
    "model = make_model(env.observation_space.shape[0],env.action_space.n,\n",
    "                   state_length=env.observation_space[0])\n",
    "target_model = make_model(env.observation_space.shape[0],env.action_space.n,\n",
    "                          state_length=env.observation_space[0])\n",
    "memory = ReplayMemory(n_memories,env.observation_space.shape[0],env.action_space.n)"
   ]
  },
  {
   "cell_type": "code",
   "execution_count": 15,
   "id": "93787b45-6401-448d-aa49-1c507316bc20",
   "metadata": {},
   "outputs": [
    {
     "data": {
      "text/plain": [
       "array([[0.],\n",
       "       [0.],\n",
       "       [0.],\n",
       "       [0.],\n",
       "       [0.],\n",
       "       [0.],\n",
       "       [0.],\n",
       "       [0.],\n",
       "       [0.],\n",
       "       [0.]])"
      ]
     },
     "execution_count": 15,
     "metadata": {},
     "output_type": "execute_result"
    }
   ],
   "source": [
    "memory.current_state[0:10]"
   ]
  },
  {
   "cell_type": "code",
   "execution_count": 16,
   "id": "504f749e-74a3-4b62-950c-eb9b5c98bf13",
   "metadata": {},
   "outputs": [
    {
     "data": {
      "text/plain": [
       "array([[0.],\n",
       "       [0.],\n",
       "       [0.],\n",
       "       [0.],\n",
       "       [0.],\n",
       "       [0.],\n",
       "       [0.],\n",
       "       [0.],\n",
       "       [0.],\n",
       "       [0.]])"
      ]
     },
     "execution_count": 16,
     "metadata": {},
     "output_type": "execute_result"
    }
   ],
   "source": [
    "memory.next_state[0:10]"
   ]
  },
  {
   "cell_type": "code",
   "execution_count": 17,
   "id": "0cd8be7a-09f7-4703-a310-833d8e0b777b",
   "metadata": {},
   "outputs": [
    {
     "data": {
      "text/plain": [
       "[0, 0, 0, 0, 0, 0, 0, 0, 0, 0]"
      ]
     },
     "execution_count": 17,
     "metadata": {},
     "output_type": "execute_result"
    }
   ],
   "source": [
    "memory.action[0:10]"
   ]
  },
  {
   "cell_type": "code",
   "execution_count": 18,
   "id": "23d58da0-dac5-4a7b-9c91-865bd185c630",
   "metadata": {},
   "outputs": [
    {
     "data": {
      "text/plain": [
       "array([0., 0., 0., 0., 0., 0., 0., 0., 0., 0.])"
      ]
     },
     "execution_count": 18,
     "metadata": {},
     "output_type": "execute_result"
    }
   ],
   "source": [
    "memory.reward[0:10]"
   ]
  },
  {
   "cell_type": "code",
   "execution_count": 19,
   "id": "11282ca5-67e9-4b62-9ad3-5b9b6742c59c",
   "metadata": {},
   "outputs": [
    {
     "data": {
      "text/plain": [
       "[False, False, False, False, False, False, False, False, False, False]"
      ]
     },
     "execution_count": 19,
     "metadata": {},
     "output_type": "execute_result"
    }
   ],
   "source": [
    "memory.done[0:10]"
   ]
  },
  {
   "cell_type": "code",
   "execution_count": 20,
   "id": "a1c88cab-2e0c-4495-b293-c60321703ac2",
   "metadata": {},
   "outputs": [
    {
     "data": {
      "text/plain": [
       "False"
      ]
     },
     "execution_count": 20,
     "metadata": {},
     "output_type": "execute_result"
    }
   ],
   "source": [
    "memory.done==True"
   ]
  },
  {
   "cell_type": "code",
   "execution_count": 21,
   "id": "5156afd3-4081-41dc-8379-1a143c992b39",
   "metadata": {},
   "outputs": [
    {
     "name": "stdout",
     "output_type": "stream",
     "text": [
      "Episode 1000/1000 - time: 5, mean-time: 4, epsilon: 0.0100009\n"
     ]
    }
   ],
   "source": [
    "# Perform the training!\n",
    "for episode in range(episodes):\n",
    "    current_state = env.reset()\n",
    "    for time in range(env.observation_space[0]):\n",
    "        Q = model(np.expand_dims(current_state,axis=0)) # Compute Q\n",
    "        action = np.random.choice(env.action_space.n) if np.random.random() < epsilon else Q.numpy().argmax()\n",
    "        next_state, reward, done, info = env.step(action) # take action!\n",
    "        memory.remember(current_state,action,reward,next_state,done) # Store in memory...\n",
    "        current_state = np.copy(next_state) # Transition to next state!\n",
    "        if (done):\n",
    "            break\n",
    "    epsilon = epsilon * epsilon_decay if epsilon > epsilon_min else epsilon_min\n",
    "    times_window.append(time)\n",
    "    mean_time = np.mean(times_window)\n",
    "    mean_times.append(mean_time)\n",
    "    print('\\rEpisode %d/%d - time: %d, mean-time: %d, epsilon: %f'%(episode+1,episodes,time,mean_time,epsilon),end='')\n",
    "\n",
    "    # Training...\n",
    "    if (episode+1) % 20 == 0:\n",
    "        memory.replay(model,target_model,replay_iterations,replay_sample_size,gamma)\n",
    "print()"
   ]
  },
  {
   "cell_type": "code",
   "execution_count": 22,
   "id": "e4e3d6d0-30f4-485d-8549-4213a6404121",
   "metadata": {},
   "outputs": [
    {
     "data": {
      "text/plain": [
       "(20, 2)"
      ]
     },
     "execution_count": 22,
     "metadata": {},
     "output_type": "execute_result"
    }
   ],
   "source": [
    "Q_full = model(np.expand_dims(np.arange(env.observation_space[0]),axis=1)).numpy()\n",
    "Q_full.shape"
   ]
  },
  {
   "cell_type": "code",
   "execution_count": 23,
   "id": "45857603-b74d-462b-8715-0fb5253cf52b",
   "metadata": {},
   "outputs": [
    {
     "data": {
      "image/png": "[encoded data removed]",
      "text/plain": [
       "<Figure size 432x288 with 1 Axes>"
      ]
     },
     "metadata": {
      "needs_background": "light"
     },
     "output_type": "display_data"
    }
   ],
   "source": [
    "plt.plot(Q_full[:,0])\n",
    "plt.plot(Q_full[:,1])\n",
    "plt.ylim([-0.2,1.2])\n",
    "plt.ylabel('Q(s,a)')\n",
    "plt.xlabel('state (s)')\n",
    "plt.legend(['a=Left','a=Right'],loc='upper right')\n",
    "plt.show()"
   ]
  },
  {
   "cell_type": "markdown",
   "id": "f2587fdd-9b44-4706-86f4-7faea9e0e108",
   "metadata": {},
   "source": [
    "### Partially-Observable Task"
   ]
  },
  {
   "cell_type": "code",
   "execution_count": 24,
   "id": "d8bb592e-c319-40bf-b008-99b0b23b03e8",
   "metadata": {},
   "outputs": [],
   "source": [
    "class POMaze1D():\n",
    "    def __init__(self,\n",
    "                 n_states=10,\n",
    "                 n_tasks=2,\n",
    "                 goal_states=[3,7],\n",
    "                 reward_nongoal=0.0,\n",
    "                 reward_goal=1.0):\n",
    "        \"\"\"\n",
    "        These options are paricular to the 1D maze environment/task:\n",
    "        n_states - size (length) of the 1D maze\n",
    "        n_tasks - number of unique tasks\n",
    "        goal_states - where the tasks terminate (terminal states)\n",
    "        reward_nongoal - scalar reward for all non-terminal states\n",
    "        reward_goal - scalar reward for terminal state\n",
    "        \"\"\"\n",
    "        self.n_states = n_states\n",
    "        self.n_tasks = n_tasks\n",
    "        self.goal_states = goal_states\n",
    "        self.reward_nongoal = reward_nongoal\n",
    "        self.reward_goal = reward_goal\n",
    "        # Agent's current location and context (initially nowhere)\n",
    "        self.x = np.array([-1,-1])\n",
    "        # Agent's initial task (initially no task)\n",
    "        self.t = np.array([-1])\n",
    "        self.observation_space = np.array([n_states,n_tasks+1])\n",
    "        class a: pass\n",
    "        self.action_space = a()\n",
    "        self.action_space.n = 2\n",
    "        \n",
    "    def reset(self):\n",
    "        self.t[0] = np.random.randint(self.n_tasks)\n",
    "        self.x[1] = self.t[0]+1\n",
    "        self.x[0] = np.random.randint(self.n_states)\n",
    "        while self.x[0] == self.goal_states[self.t[0]]:\n",
    "            self.x[0] = np.random.randint(self.n_states)\n",
    "        return np.copy(self.x)\n",
    "    \n",
    "    def step(self,action):\n",
    "        if action:\n",
    "            self.x[0] = (self.x[0] + 1) % self.n_states\n",
    "            self.x[1] = 0\n",
    "        else:\n",
    "            self.x[0] = (self.x[0] - 1) % self.n_states\n",
    "            self.x[1] = 0\n",
    "        if self.x[0] == self.goal_states[self.t[0]]:\n",
    "            r = self.reward_goal\n",
    "            d = True\n",
    "        else:\n",
    "            r = self.reward_nongoal\n",
    "            d = False\n",
    "        return np.copy(self.x), r, d, None"
   ]
  },
  {
   "cell_type": "code",
   "execution_count": 115,
   "id": "e09a5964-f769-4260-b7d2-8174472e634a",
   "metadata": {},
   "outputs": [],
   "source": [
    "n_states = 20\n",
    "n_tasks = 2\n",
    "goal_states = [5,15]\n",
    "env = POMaze1D(n_states=n_states,\n",
    "               n_tasks=n_tasks,\n",
    "               goal_states=goal_states)"
   ]
  },
  {
   "cell_type": "code",
   "execution_count": 26,
   "id": "a7b08688-dea2-42fb-9eec-f06f123090c5",
   "metadata": {},
   "outputs": [
    {
     "data": {
      "text/plain": [
       "array([20,  3])"
      ]
     },
     "execution_count": 26,
     "metadata": {},
     "output_type": "execute_result"
    }
   ],
   "source": [
    "env.observation_space"
   ]
  },
  {
   "cell_type": "code",
   "execution_count": 27,
   "id": "d96294fe-79b0-4296-9a94-7d82dd00c72f",
   "metadata": {},
   "outputs": [
    {
     "data": {
      "text/plain": [
       "2"
      ]
     },
     "execution_count": 27,
     "metadata": {},
     "output_type": "execute_result"
    }
   ],
   "source": [
    "env.action_space.n"
   ]
  },
  {
   "cell_type": "code",
   "execution_count": 113,
   "id": "6b570cb0-32b3-49b8-ab83-7d6fecfba0c0",
   "metadata": {},
   "outputs": [
    {
     "name": "stdout",
     "output_type": "stream",
     "text": [
      "[1 1]\n",
      "[0 0] 0.0 False None\n",
      "[19  0] 0.0 False None\n",
      "[18  0] 0.0 False None\n",
      "[17  0] 0.0 False None\n",
      "[16  0] 0.0 False None\n"
     ]
    }
   ],
   "source": [
    "observation = env.reset()\n",
    "print(observation)\n",
    "for time in range(5):\n",
    "    observation, reward, done, info = env.step(0) # take action!\n",
    "    print(observation,reward,done,info)"
   ]
  },
  {
   "cell_type": "markdown",
   "id": "7e8471aa-c8ab-4f4c-bab0-982fca675f23",
   "metadata": {},
   "source": [
    "### Don't Change!"
   ]
  },
  {
   "cell_type": "code",
   "execution_count": 116,
   "id": "bd13c1d0-c434-43cf-aff2-466b35d24678",
   "metadata": {},
   "outputs": [],
   "source": [
    "def circ_conv(x,y=None):\n",
    "    if y is not None:\n",
    "        tf.math.real(tf.signal.ifft(tf.signal.fft(x)*tf.signal.fft(y)))\n",
    "    else:\n",
    "        return tf.math.real(tf.signal.ifft(tf.reduce_prod(tf.signal.fft(tf.cast(x,tf.complex64)),axis=1)))    "
   ]
  },
  {
   "cell_type": "code",
   "execution_count": 236,
   "id": "2cb1be47-8cd6-4e04-bf8e-86eb284878fa",
   "metadata": {},
   "outputs": [],
   "source": [
    "def circ_pow(x,y=0.0):\n",
    "    return tf.math.real(tf.signal.ifft(tf.pow(tf.signal.fft(tf.cast(x,tf.complex64)),tf.cast(y,tf.complex64))))"
   ]
  },
  {
   "cell_type": "markdown",
   "id": "c6735a36-75e3-41ce-ae4b-40f80e0f7bba",
   "metadata": {},
   "source": [
    "### Standard RL Model Applied to PO Task..."
   ]
  },
  {
   "cell_type": "code",
   "execution_count": 164,
   "id": "8e0ece25-3ede-472a-b516-16e568d4885c",
   "metadata": {},
   "outputs": [
    {
     "name": "stdout",
     "output_type": "stream",
     "text": [
      "Model: \"model_27\"\n",
      "__________________________________________________________________________________________________\n",
      " Layer (type)                   Output Shape         Param #     Connected to                     \n",
      "==================================================================================================\n",
      " input_80 (InputLayer)          [(None, 2)]          0           []                               \n",
      "                                                                                                  \n",
      " lambda_106 (Lambda)            (None, 1)            0           ['input_80[0][0]']               \n",
      "                                                                                                  \n",
      " lambda_107 (Lambda)            (None, 1)            0           ['input_80[0][0]']               \n",
      "                                                                                                  \n",
      " embedding_79 (Embedding)       (None, 1, 100)       2000        ['lambda_106[0][0]']             \n",
      "                                                                                                  \n",
      " embedding_80 (Embedding)       (None, 1, 100)       300         ['lambda_107[0][0]']             \n",
      "                                                                                                  \n",
      " concatenate_42 (Concatenate)   (None, 2, 100)       0           ['embedding_79[0][0]',           \n",
      "                                                                  'embedding_80[0][0]']           \n",
      "                                                                                                  \n",
      " lambda_108 (Lambda)            (None, 100)          0           ['concatenate_42[0][0]']         \n",
      "                                                                                                  \n",
      " dense_49 (Dense)               (None, 256)          25856       ['lambda_108[0][0]']             \n",
      "                                                                                                  \n",
      " dense_50 (Dense)               (None, 2)            514         ['dense_49[0][0]']               \n",
      "                                                                                                  \n",
      "==================================================================================================\n",
      "Total params: 28,670\n",
      "Trainable params: 28,670\n",
      "Non-trainable params: 0\n",
      "__________________________________________________________________________________________________\n"
     ]
    },
    {
     "data": {
      "image/png": "[encoded data removed]",
      "text/plain": [
       "<IPython.core.display.Image object>"
      ]
     },
     "execution_count": 164,
     "metadata": {},
     "output_type": "execute_result"
    }
   ],
   "source": [
    "# A simple multilayer architecture....\n",
    "def make_model(state_shape,\n",
    "               action_shape,\n",
    "               state_length = 10,\n",
    "               context_length = 3,\n",
    "               embedding_dim = 100,\n",
    "               hidden_dim = 256):\n",
    "    \"\"\"\n",
    "    The state_shape and action_shape are typical parameters\n",
    "    that are obtained from the OpenAI gym framework - usually one\n",
    "    would utilize the env.observation_space.shape and\n",
    "    env.action_space.n for most situations to set these values,\n",
    "    respectively.\n",
    "    \n",
    "    The remaining keyword arguments are problem-specific and\n",
    "    may need to be rewritten based on your model architecture.\n",
    "    For example, here we are using a -discrete- input space for\n",
    "    the 1DMaze problem - so the input shape is (1,) which can\n",
    "    be obtained from the variables above for setting state_shape\n",
    "    appropriately, but the Embedding of those discrete tokens\n",
    "    (i.e. 0, 1, 2, 3, ..., (n-1)) for each state needs to know\n",
    "    the maximum number of states (and therefore random vectors)\n",
    "    to expect in that input vector.\n",
    "    \"\"\"\n",
    "    x = keras.layers.Input(state_shape)\n",
    "    y = x\n",
    "    \n",
    "    y1 = keras.layers.Lambda(lambda x: x[:,0:1])(y)\n",
    "    y1 = keras.layers.Embedding(input_dim=state_length,\n",
    "                               output_dim=embedding_dim)(y1)\n",
    "    y2 = keras.layers.Lambda(lambda x: x[:,1:2])(y)\n",
    "    y2 = keras.layers.Embedding(input_dim=context_length,\n",
    "                               output_dim=embedding_dim)(y2)\n",
    "\n",
    "    y = keras.layers.Concatenate(1)([y1,y2])\n",
    "    y = keras.layers.Lambda(circ_conv)(y)\n",
    "    # y = keras.layers.Concatenate()([y1,y2])\n",
    "    # y = keras.layers.Flatten()(y)\n",
    "\n",
    "    y = keras.layers.Dense(hidden_dim,activation='gelu')(y)\n",
    "    y = keras.layers.Dense(action_shape)(y)\n",
    "    model = keras.Model(x,y)\n",
    "    model.compile(loss=keras.losses.MeanSquaredError(),\n",
    "                  optimizer=keras.optimizers.SGD(learning_rate=0.001))\n",
    "    return model\n",
    "\n",
    "model = make_model(env.observation_space.shape[0],env.action_space.n,\n",
    "                   state_length=env.observation_space[0],\n",
    "                   context_length=env.observation_space[1])\n",
    "model.summary()\n",
    "keras.utils.plot_model(model,show_shapes=True)"
   ]
  },
  {
   "cell_type": "code",
   "execution_count": 129,
   "id": "4412d38f-e8ea-445e-a746-8bd4af09e3f7",
   "metadata": {},
   "outputs": [
    {
     "data": {
      "text/plain": [
       "<tf.Tensor: shape=(1, 2), dtype=float32, numpy=array([[-0.00869754,  0.00457796]], dtype=float32)>"
      ]
     },
     "execution_count": 129,
     "metadata": {},
     "output_type": "execute_result"
    }
   ],
   "source": [
    "Q = model(np.array([[0,0]]))\n",
    "Q"
   ]
  },
  {
   "cell_type": "code",
   "execution_count": 130,
   "id": "3ed96949-d0a6-4f6d-a80a-ecb6d521ebd6",
   "metadata": {},
   "outputs": [
    {
     "data": {
      "text/plain": [
       "1"
      ]
     },
     "execution_count": 130,
     "metadata": {},
     "output_type": "execute_result"
    }
   ],
   "source": [
    "Q.numpy().argmax()"
   ]
  },
  {
   "cell_type": "code",
   "execution_count": 131,
   "id": "dd3f7e2e-d0ec-4ae2-b9ad-d961bac75c29",
   "metadata": {},
   "outputs": [
    {
     "data": {
      "text/plain": [
       "1"
      ]
     },
     "execution_count": 131,
     "metadata": {},
     "output_type": "execute_result"
    }
   ],
   "source": [
    "# epsilon-greedy policy\n",
    "epsilon = 0.1\n",
    "action = np.random.choice([0,1]) if np.random.random() < epsilon else Q.numpy().argmax()\n",
    "action"
   ]
  },
  {
   "cell_type": "code",
   "execution_count": 132,
   "id": "a1898934-74e6-4409-a973-74eeb69038c3",
   "metadata": {},
   "outputs": [
    {
     "data": {
      "text/plain": [
       "array([[-0.00869754,  0.00457796]], dtype=float32)"
      ]
     },
     "execution_count": 132,
     "metadata": {},
     "output_type": "execute_result"
    }
   ],
   "source": [
    "Q.numpy()"
   ]
  },
  {
   "cell_type": "code",
   "execution_count": 133,
   "id": "effa5b96-2616-4909-be13-dfafbb5e02f4",
   "metadata": {},
   "outputs": [
    {
     "name": "stdout",
     "output_type": "stream",
     "text": [
      "[[ 6.00000000e+00  2.00000000e+00  0.00000000e+00  2.77655683e-02\n",
      "  -1.07148942e-02]\n",
      " [ 5.00000000e+00  0.00000000e+00  1.00000000e+00  2.00461820e-02\n",
      "   4.32745032e-02]\n",
      " [ 6.00000000e+00  0.00000000e+00  1.00000000e+00  1.94805209e-02\n",
      "   2.09221356e-02]\n",
      " [ 7.00000000e+00  0.00000000e+00  1.00000000e+00  1.09864743e-02\n",
      "   1.62206590e-02]\n",
      " [ 8.00000000e+00  0.00000000e+00  1.00000000e+00 -8.88565555e-03\n",
      "   2.67938077e-02]\n",
      " [ 9.00000000e+00  0.00000000e+00  1.00000000e+00  3.58566549e-03\n",
      "   5.66580519e-02]\n",
      " [ 1.00000000e+01  0.00000000e+00  1.00000000e+00 -1.86403431e-02\n",
      "   3.48661877e-02]\n",
      " [ 1.10000000e+01  0.00000000e+00  0.00000000e+00  1.44062992e-02\n",
      "   2.38661980e-03]\n",
      " [ 1.00000000e+01  0.00000000e+00  1.00000000e+00 -1.86403431e-02\n",
      "   3.48661877e-02]\n",
      " [ 1.10000000e+01  0.00000000e+00  0.00000000e+00  1.44062992e-02\n",
      "   2.38661980e-03]\n",
      " [ 1.00000000e+01  0.00000000e+00  1.00000000e+00 -1.86403431e-02\n",
      "   3.48661877e-02]\n",
      " [ 1.10000000e+01  0.00000000e+00  0.00000000e+00  1.44062992e-02\n",
      "   2.38661980e-03]\n",
      " [ 1.00000000e+01  0.00000000e+00  1.00000000e+00 -1.86403431e-02\n",
      "   3.48661877e-02]\n",
      " [ 1.10000000e+01  0.00000000e+00  0.00000000e+00  1.44062992e-02\n",
      "   2.38661980e-03]\n",
      " [ 1.00000000e+01  0.00000000e+00  1.00000000e+00 -1.86403431e-02\n",
      "   3.48661877e-02]\n",
      " [ 1.10000000e+01  0.00000000e+00  0.00000000e+00  1.44062992e-02\n",
      "   2.38661980e-03]\n",
      " [ 1.00000000e+01  0.00000000e+00  1.00000000e+00 -1.86403431e-02\n",
      "   3.48661877e-02]\n",
      " [ 1.10000000e+01  0.00000000e+00  0.00000000e+00  1.44062992e-02\n",
      "   2.38661980e-03]\n",
      " [ 1.00000000e+01  0.00000000e+00  1.00000000e+00 -1.86403431e-02\n",
      "   3.48661877e-02]\n",
      " [ 1.10000000e+01  0.00000000e+00  0.00000000e+00  1.44062992e-02\n",
      "   2.38661980e-03]\n",
      " [ 1.00000000e+01  0.00000000e+00  1.00000000e+00 -1.86403431e-02\n",
      "   3.48661877e-02]\n",
      " [ 1.10000000e+01  0.00000000e+00  0.00000000e+00  1.44062992e-02\n",
      "   2.38661980e-03]\n",
      " [ 1.00000000e+01  0.00000000e+00  0.00000000e+00 -1.86403431e-02\n",
      "   3.48661877e-02]\n",
      " [ 9.00000000e+00  0.00000000e+00  1.00000000e+00  3.58566549e-03\n",
      "   5.66580519e-02]\n",
      " [ 1.00000000e+01  0.00000000e+00  1.00000000e+00 -1.86403431e-02\n",
      "   3.48661877e-02]\n",
      " [ 1.10000000e+01  0.00000000e+00  0.00000000e+00  1.44062992e-02\n",
      "   2.38661980e-03]\n",
      " [ 1.00000000e+01  0.00000000e+00  1.00000000e+00 -1.86403431e-02\n",
      "   3.48661877e-02]\n",
      " [ 1.10000000e+01  0.00000000e+00  0.00000000e+00  1.44062992e-02\n",
      "   2.38661980e-03]\n",
      " [ 1.00000000e+01  0.00000000e+00  1.00000000e+00 -1.86403431e-02\n",
      "   3.48661877e-02]\n",
      " [ 1.10000000e+01  0.00000000e+00  0.00000000e+00  1.44062992e-02\n",
      "   2.38661980e-03]\n",
      " [ 1.00000000e+01  0.00000000e+00  0.00000000e+00  1.44062992e-02\n",
      "   2.38661980e-03]]\n"
     ]
    }
   ],
   "source": [
    "# Initialize the environment and let the agent decide!\n",
    "observation = env.reset()\n",
    "trace = []\n",
    "epsilon = 0.1\n",
    "reward = 0.0\n",
    "for time in range(30):\n",
    "    Q = model(np.expand_dims(observation,axis=0)) # Compute Q\n",
    "    action = np.random.choice([0,1]) if np.random.random() < epsilon else Q.numpy().argmax()\n",
    "    trace.append(np.concatenate([observation,[action],Q[0]]))\n",
    "    observation, reward, done, info = env.step(action) # take action!\n",
    "    if (done):\n",
    "        break\n",
    "trace.append(np.concatenate([observation,[action],Q[0]]))\n",
    "# s, a, Q(s,L), Q(s,R)\n",
    "print(np.vstack(trace))"
   ]
  },
  {
   "cell_type": "code",
   "execution_count": null,
   "id": "69b2b137-6f49-459e-a8f5-bbe458ddc578",
   "metadata": {},
   "outputs": [],
   "source": []
  },
  {
   "cell_type": "code",
   "execution_count": 134,
   "id": "57638349-1b2f-4745-beb1-d6c0fdcc32e0",
   "metadata": {},
   "outputs": [],
   "source": [
    "# Step 1 - Replay Memory Class\n",
    "class ReplayMemory:\n",
    "    def __init__(self, memory_size, state_size, action_size):\n",
    "        self.state_size = state_size\n",
    "        self.action_size = action_size\n",
    "        self.size = 0\n",
    "        self.maxsize = memory_size\n",
    "        self.current_index = 0\n",
    "        self.current_state = np.zeros([memory_size,env.observation_space.shape[0]])\n",
    "        self.action = [0]*memory_size # Remember, actions are integers...\n",
    "        self.reward = np.zeros([memory_size])\n",
    "        self.next_state = np.zeros([memory_size,env.observation_space.shape[0]])\n",
    "        self.done = [False]*memory_size # Boolean (terminal transition?)\n",
    "\n",
    "    def remember(self, current_state, action, reward, next_state, done):\n",
    "        # Stores a single memory item\n",
    "        self.current_state[self.current_index,:] = current_state\n",
    "        self.action[self.current_index] = action\n",
    "        self.reward[self.current_index] = reward\n",
    "        self.next_state[self.current_index,:] = next_state\n",
    "        self.done[self.current_index] = done\n",
    "        self.current_index = (self.current_index+1)%self.maxsize\n",
    "        self.size = max(self.current_index,self.size)\n",
    "    \n",
    "    def replay(self, model, target_model, num_samples, sample_size, gamma):\n",
    "        # Run replay!\n",
    "        \n",
    "        # Can't train if we don't yet have enough samples to begin with...\n",
    "        if self.size < sample_size:\n",
    "            return\n",
    "        \n",
    "        for i in range(num_samples):\n",
    "            # Select sample_size memory indices from the whole set\n",
    "            current_sample = np.random.choice(self.size,sample_size,replace=False)\n",
    "            \n",
    "            # Slice memory into training sample\n",
    "            current_state = self.current_state[current_sample,:]\n",
    "            action = [self.action[j] for j in current_sample]\n",
    "            reward = self.reward[current_sample]\n",
    "            next_state = self.next_state[current_sample,:]\n",
    "            done = [self.done[j] for j in current_sample]\n",
    "            \n",
    "            # Obtain model's current Q-values\n",
    "            model_targets = model(current_state).numpy()\n",
    "            \n",
    "            # Create targets from argmax(Q(s+1,a+1))\n",
    "            # Use the target model!\n",
    "            targets = reward + gamma*np.amax(target_model(next_state).numpy(),axis=1)\n",
    "            # Absorb the reward on terminal state-action transitions\n",
    "            targets[done] = reward[done]\n",
    "            # Update just the relevant parts of the model_target vector...\n",
    "            model_targets[range(sample_size),action] = targets\n",
    "            \n",
    "            # Update the weights accordingly\n",
    "            model.train_on_batch(current_state,model_targets)\n",
    "            # model.fit(current_state,model_targets,\n",
    "            #          epochs=1,verbose=0,batch_size=sample_size)\n",
    "            \n",
    "        # Once we have finished training, update the target model\n",
    "        target_model.set_weights(model.get_weights())"
   ]
  },
  {
   "cell_type": "code",
   "execution_count": 135,
   "id": "373f18af-617d-42ec-b906-36d39766ab10",
   "metadata": {},
   "outputs": [],
   "source": [
    "# Full setup for the task...\n",
    "\n",
    "# For keeping track of performance\n",
    "from collections import deque\n",
    "\n",
    "# Hyperparameters\n",
    "gamma = 0.7\n",
    "epsilon = 1.0\n",
    "epsilon_decay = 0.98\n",
    "epsilon_min = 0.01\n",
    "episodes = 1000\n",
    "\n",
    "# Total memory size (number of actions remembered...)\n",
    "n_memories = 1000\n",
    "\n",
    "# How many batches do we want to train on\n",
    "# from the memory before updating the\n",
    "# target model?\n",
    "replay_iterations = 10\n",
    "\n",
    "# How many memories do we use in each batch?\n",
    "replay_sample_size = 50\n",
    "\n",
    "# Peformance stats\n",
    "times_window = deque(maxlen=100)\n",
    "mean_times = deque(maxlen=episodes)\n",
    "\n",
    "# Initialize the environment and agent data structures\n",
    "# env = gym.make('CartPole-v1')\n",
    "model = make_model(env.observation_space.shape[0],env.action_space.n,\n",
    "                   state_length=env.observation_space[0])\n",
    "target_model = make_model(env.observation_space.shape[0],env.action_space.n,\n",
    "                          state_length=env.observation_space[0])\n",
    "memory = ReplayMemory(n_memories,env.observation_space.shape[0],env.action_space.n)"
   ]
  },
  {
   "cell_type": "code",
   "execution_count": 136,
   "id": "acce4ecc-7a32-4d16-8bed-76035c740f55",
   "metadata": {},
   "outputs": [
    {
     "data": {
      "text/plain": [
       "False"
      ]
     },
     "execution_count": 136,
     "metadata": {},
     "output_type": "execute_result"
    }
   ],
   "source": [
    "np.any(memory.current_state[:,1]==1)"
   ]
  },
  {
   "cell_type": "code",
   "execution_count": 137,
   "id": "5fe904e1-217f-41e1-9fcd-b632b227907e",
   "metadata": {},
   "outputs": [
    {
     "data": {
      "text/plain": [
       "array([[0., 0.],\n",
       "       [0., 0.],\n",
       "       [0., 0.],\n",
       "       [0., 0.],\n",
       "       [0., 0.],\n",
       "       [0., 0.],\n",
       "       [0., 0.],\n",
       "       [0., 0.],\n",
       "       [0., 0.],\n",
       "       [0., 0.]])"
      ]
     },
     "execution_count": 137,
     "metadata": {},
     "output_type": "execute_result"
    }
   ],
   "source": [
    "memory.current_state[0:10]"
   ]
  },
  {
   "cell_type": "code",
   "execution_count": 138,
   "id": "d22a8643-283b-4fce-9dc5-ee3b906c989d",
   "metadata": {},
   "outputs": [
    {
     "data": {
      "text/plain": [
       "array([[0., 0.],\n",
       "       [0., 0.],\n",
       "       [0., 0.],\n",
       "       [0., 0.],\n",
       "       [0., 0.],\n",
       "       [0., 0.],\n",
       "       [0., 0.],\n",
       "       [0., 0.],\n",
       "       [0., 0.],\n",
       "       [0., 0.]])"
      ]
     },
     "execution_count": 138,
     "metadata": {},
     "output_type": "execute_result"
    }
   ],
   "source": [
    "memory.next_state[0:10]"
   ]
  },
  {
   "cell_type": "code",
   "execution_count": 139,
   "id": "b7ffbbdf-817d-446b-92a1-00ea4ca5ce6a",
   "metadata": {},
   "outputs": [
    {
     "data": {
      "text/plain": [
       "[0, 0, 0, 0, 0, 0, 0, 0, 0, 0]"
      ]
     },
     "execution_count": 139,
     "metadata": {},
     "output_type": "execute_result"
    }
   ],
   "source": [
    "memory.action[0:10]"
   ]
  },
  {
   "cell_type": "code",
   "execution_count": 140,
   "id": "6737923b-7943-4874-98ac-6f46983936f8",
   "metadata": {},
   "outputs": [
    {
     "data": {
      "text/plain": [
       "array([0., 0., 0., 0., 0., 0., 0., 0., 0., 0.])"
      ]
     },
     "execution_count": 140,
     "metadata": {},
     "output_type": "execute_result"
    }
   ],
   "source": [
    "memory.reward[0:10]"
   ]
  },
  {
   "cell_type": "code",
   "execution_count": 141,
   "id": "df8a593d-84c3-4f6a-9504-a2784b480334",
   "metadata": {},
   "outputs": [
    {
     "data": {
      "text/plain": [
       "[False, False, False, False, False, False, False, False, False, False]"
      ]
     },
     "execution_count": 141,
     "metadata": {},
     "output_type": "execute_result"
    }
   ],
   "source": [
    "memory.done[0:10]"
   ]
  },
  {
   "cell_type": "code",
   "execution_count": 142,
   "id": "754bf7ca-1669-4366-a8d6-365bb3952188",
   "metadata": {},
   "outputs": [
    {
     "data": {
      "text/plain": [
       "False"
      ]
     },
     "execution_count": 142,
     "metadata": {},
     "output_type": "execute_result"
    }
   ],
   "source": [
    "np.any(memory.done)"
   ]
  },
  {
   "cell_type": "code",
   "execution_count": 143,
   "id": "8e5282f7-2625-4919-8fb5-21a3d2b82821",
   "metadata": {},
   "outputs": [
    {
     "data": {
      "text/plain": [
       "array([17,  1])"
      ]
     },
     "execution_count": 143,
     "metadata": {},
     "output_type": "execute_result"
    }
   ],
   "source": [
    "current_state = env.reset()\n",
    "current_state"
   ]
  },
  {
   "cell_type": "code",
   "execution_count": 144,
   "id": "b3c80ec1-d586-486c-a941-48b3b6fa9816",
   "metadata": {},
   "outputs": [
    {
     "data": {
      "text/plain": [
       "(array([18,  0]), 0.0, False, None)"
      ]
     },
     "execution_count": 144,
     "metadata": {},
     "output_type": "execute_result"
    }
   ],
   "source": [
    "env.step(1)"
   ]
  },
  {
   "cell_type": "code",
   "execution_count": 145,
   "id": "22b0cb30-2cd2-42b8-a780-b3164e1fc0d1",
   "metadata": {},
   "outputs": [
    {
     "name": "stdout",
     "output_type": "stream",
     "text": [
      "Episode 1000/1000 - time: 19, mean-time: 17, epsilon: 0.010000\n"
     ]
    }
   ],
   "source": [
    "# Perform the training!\n",
    "for episode in range(episodes):\n",
    "    current_state = env.reset()\n",
    "    for time in range(env.observation_space[0]):\n",
    "        Q = model(np.expand_dims(current_state,axis=0))\n",
    "        action = np.random.choice(env.action_space.n) if np.random.random() < epsilon else np.argmax(Q)\n",
    "        next_state, reward, done, info = env.step(action) # take action!\n",
    "        memory.remember(current_state,action,reward,next_state,done) # Store in memory...\n",
    "        current_state = next_state # Transition to next state!\n",
    "        if (done):\n",
    "            break\n",
    "    epsilon = epsilon * epsilon_decay if epsilon > epsilon_min else epsilon_min\n",
    "    times_window.append(time)\n",
    "    mean_time = np.mean(times_window)\n",
    "    mean_times.append(mean_time)\n",
    "    print('\\rEpisode %d/%d - time: %d, mean-time: %d, epsilon: %f'%(episode+1,episodes,time,mean_time,epsilon),end='')\n",
    "\n",
    "    # Training...\n",
    "    if (episode+1) % 20 == 0:\n",
    "        memory.replay(model,target_model,replay_iterations,replay_sample_size,gamma)\n",
    "print()"
   ]
  },
  {
   "cell_type": "code",
   "execution_count": 146,
   "id": "8df1d105-ae04-4835-8294-aad880ac5376",
   "metadata": {},
   "outputs": [],
   "source": [
    "Q_full = []\n",
    "for i in range(n_tasks+1):\n",
    "    Q_full.append(model(np.vstack([np.arange(env.observation_space[0]),[i]*env.observation_space[0]]).T).numpy())"
   ]
  },
  {
   "cell_type": "code",
   "execution_count": 147,
   "id": "0826390b-1c4f-478d-aaaa-cd7d6020d897",
   "metadata": {},
   "outputs": [
    {
     "data": {
      "image/png": "[encoded data removed]",
      "text/plain": [
       "<Figure size 432x288 with 1 Axes>"
      ]
     },
     "metadata": {
      "needs_background": "light"
     },
     "output_type": "display_data"
    },
    {
     "data": {
      "image/png": "[encoded data removed]",
      "text/plain": [
       "<Figure size 432x288 with 1 Axes>"
      ]
     },
     "metadata": {
      "needs_background": "light"
     },
     "output_type": "display_data"
    },
    {
     "data": {
      "image/png": "[encoded data removed]",
      "text/plain": [
       "<Figure size 432x288 with 1 Axes>"
      ]
     },
     "metadata": {
      "needs_background": "light"
     },
     "output_type": "display_data"
    }
   ],
   "source": [
    "for i in range(n_tasks+1):\n",
    "    plt.plot(Q_full[i][:,0])\n",
    "    plt.plot(Q_full[i][:,1])\n",
    "    plt.ylim([-0.2,1.2])\n",
    "    plt.ylabel('Q(s,a)')\n",
    "    plt.xlabel('state (s)')\n",
    "    plt.title('Signal: %d'%(i))\n",
    "    plt.legend(['a=Left','a=Right'],loc='upper right')\n",
    "    plt.show()"
   ]
  },
  {
   "cell_type": "code",
   "execution_count": null,
   "id": "9faf7243-5bea-417c-932a-84b783330aec",
   "metadata": {},
   "outputs": [],
   "source": []
  },
  {
   "cell_type": "code",
   "execution_count": null,
   "id": "5f4fb567-9f4d-4fdf-a280-a15873e41761",
   "metadata": {},
   "outputs": [],
   "source": []
  },
  {
   "cell_type": "code",
   "execution_count": null,
   "id": "9d8007b4-ed61-430b-a164-7f1bf29c4236",
   "metadata": {},
   "outputs": [],
   "source": []
  }
 ],
 "metadata": {
  "kernelspec": {
   "display_name": "Python 3 (ipykernel)",
   "language": "python",
   "name": "python3"
  },
  "language_info": {
   "codemirror_mode": {
    "name": "ipython",
    "version": 3
   },
   "file_extension": ".py",
   "mimetype": "text/x-python",
   "name": "python",
   "nbconvert_exporter": "python",
   "pygments_lexer": "ipython3",
   "version": "3.10.5"
  }
 },
 "nbformat": 4,
 "nbformat_minor": 5
}
